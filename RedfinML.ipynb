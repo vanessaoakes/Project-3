{
 "cells": [
  {
   "cell_type": "code",
   "execution_count": 1,
   "metadata": {},
   "outputs": [],
   "source": [
    "import sqlite3\n",
    "\n",
    "conn = sqlite3.connect('sanfrancisco.db')"
   ]
  },
  {
   "cell_type": "code",
   "execution_count": 2,
   "metadata": {},
   "outputs": [],
   "source": [
    "c = conn.cursor()\n",
    "c.execute(\"SELECT Sold_Price, Bedroom, Bathroom, Sq_ft, Zipcode, Original_Price FROM Address WHERE Sq_ft is not null and Sold_Price>0\")\n",
    "rows = c.fetchall()"
   ]
  },
  {
   "cell_type": "code",
   "execution_count": 3,
   "metadata": {},
   "outputs": [],
   "source": [
    "import random\n",
    "# Didn't want the data to be biased by date\n",
    "random.shuffle(rows)\n",
    "\n",
    "y = []\n",
    "X = []\n",
    "\n",
    "for row in rows:\n",
    "    \n",
    "    if row[5] is None:\n",
    "        continue\n",
    "#Normalizing    \n",
    "    sold_price = row[0] / 1000000.0\n",
    "    bedroom = row[1]\n",
    "    bathroom = row[2]\n",
    "    sq_ft = row[3] / 1000.0\n",
    "#     zip_code = row[4] - 94100\n",
    "    original_price = row[5] / 1000000.0\n",
    "    \n",
    "    y.append(sold_price)\n",
    "    X.append([bedroom, bathroom, sq_ft, original_price])"
   ]
  },
  {
   "cell_type": "code",
   "execution_count": 4,
   "metadata": {},
   "outputs": [
    {
     "name": "stdout",
     "output_type": "stream",
     "text": [
      "352\n",
      "246\n",
      "106\n",
      "352\n"
     ]
    }
   ],
   "source": [
    "from math import floor\n",
    "\n",
    "# y = y[:230]\n",
    "# X = X[:230]\n",
    "# Training a ratio of 70% if we didn't do the shuffle \n",
    "# my information would be biased towards old listings without taking new listings into account\n",
    "training_ratio = .7\n",
    "training_count = floor(len(y) * training_ratio)\n",
    "testing_count = len(y) - training_count\n",
    "\n",
    "print(len(y))\n",
    "print(training_count)\n",
    "print(testing_count)\n",
    "print(testing_count + training_count)"
   ]
  },
  {
   "cell_type": "code",
   "execution_count": 5,
   "metadata": {},
   "outputs": [],
   "source": [
    "training_y = y[0:training_count]\n",
    "training_X = X[0:training_count]\n",
    "\n",
    "testing_y = y[len(rows)-testing_count:]\n",
    "testing_X = X[len(rows) - testing_count:]"
   ]
  },
  {
   "cell_type": "code",
   "execution_count": 6,
   "metadata": {},
   "outputs": [
    {
     "data": {
      "text/plain": [
       "LinearRegression(copy_X=True, fit_intercept=True, n_jobs=1, normalize=False)"
      ]
     },
     "execution_count": 6,
     "metadata": {},
     "output_type": "execute_result"
    }
   ],
   "source": [
    "from sklearn import linear_model as lm\n",
    "\n",
    "reg = lm.LinearRegression()\n",
    "reg.fit(training_X, training_y)"
   ]
  },
  {
   "cell_type": "code",
   "execution_count": 7,
   "metadata": {},
   "outputs": [
    {
     "data": {
      "text/plain": [
       "array([-0.08766312,  0.08873556, -0.03656693,  0.92095353])"
      ]
     },
     "execution_count": 7,
     "metadata": {},
     "output_type": "execute_result"
    }
   ],
   "source": [
    "reg.coef_\n",
    "#Bedroom,Bathroom,Square Ft. 21.,Listing Price"
   ]
  },
  {
   "cell_type": "code",
   "execution_count": 8,
   "metadata": {},
   "outputs": [],
   "source": [
    "# reg.predict([[4, 3.5, 2.75]])"
   ]
  },
  {
   "cell_type": "code",
   "execution_count": 9,
   "metadata": {},
   "outputs": [],
   "source": [
    "predictions = reg.predict(testing_X)"
   ]
  },
  {
   "cell_type": "code",
   "execution_count": 10,
   "metadata": {},
   "outputs": [
    {
     "name": "stdout",
     "output_type": "stream",
     "text": [
      "Mean Squared Error (MSE): 0.08969494001088454\n",
      "R-squared (R2 ): 0.9820689268218238\n"
     ]
    }
   ],
   "source": [
    "from sklearn.metrics import mean_squared_error, r2_score\n",
    "\n",
    "mse = mean_squared_error(testing_y, predictions)\n",
    "r2 = r2_score(testing_y, predictions)\n",
    "\n",
    "print(f\"Mean Squared Error (MSE): {mse}\")\n",
    "print(f\"R-squared (R2 ): {r2}\")"
   ]
  },
  {
   "cell_type": "code",
   "execution_count": 11,
   "metadata": {},
   "outputs": [
    {
     "data": {
      "text/plain": [
       "0.9820689268218238"
      ]
     },
     "execution_count": 11,
     "metadata": {},
     "output_type": "execute_result"
    }
   ],
   "source": [
    "reg.score(testing_X, testing_y)"
   ]
  },
  {
   "cell_type": "code",
   "execution_count": 12,
   "metadata": {},
   "outputs": [
    {
     "data": {
      "text/plain": [
       "array([1.68208705])"
      ]
     },
     "execution_count": 12,
     "metadata": {},
     "output_type": "execute_result"
    }
   ],
   "source": [
    "# 33 Dellbrook Ave\n",
    "reg.predict([[4, 3, 1.911, 1.495]]) # Redfin estimate $1.710 mil"
   ]
  },
  {
   "cell_type": "code",
   "execution_count": 13,
   "metadata": {},
   "outputs": [
    {
     "data": {
      "text/plain": [
       "array([1.82181381])"
      ]
     },
     "execution_count": 13,
     "metadata": {},
     "output_type": "execute_result"
    }
   ],
   "source": [
    "# 1430 23rd Ave\n",
    "reg.predict([[3,2.5,2.025,1.598]]) #Redfin Est. 1.896"
   ]
  },
  {
   "cell_type": "code",
   "execution_count": 14,
   "metadata": {},
   "outputs": [
    {
     "data": {
      "text/plain": [
       "array([1.84398567])"
      ]
     },
     "execution_count": 14,
     "metadata": {},
     "output_type": "execute_result"
    }
   ],
   "source": [
    "reg.predict([[3, 3, 2.102, 1.599]])"
   ]
  },
  {
   "cell_type": "code",
   "execution_count": 15,
   "metadata": {},
   "outputs": [
    {
     "data": {
      "text/plain": [
       "array([1.66360927])"
      ]
     },
     "execution_count": 15,
     "metadata": {},
     "output_type": "execute_result"
    }
   ],
   "source": [
    "reg.predict([[4, 2.5, 2.350, 1.498]])"
   ]
  },
  {
   "cell_type": "code",
   "execution_count": 16,
   "metadata": {},
   "outputs": [],
   "source": [
    "import pickle\n",
    "\n",
    "filename = \"model_v2.sav\"\n",
    "pickle.dump(reg, open(filename, 'wb'))"
   ]
  },
  {
   "cell_type": "code",
   "execution_count": null,
   "metadata": {},
   "outputs": [],
   "source": []
  }
 ],
 "metadata": {
  "kernelspec": {
   "display_name": "Python 3",
   "language": "python",
   "name": "python3"
  },
  "language_info": {
   "codemirror_mode": {
    "name": "ipython",
    "version": 3
   },
   "file_extension": ".py",
   "mimetype": "text/x-python",
   "name": "python",
   "nbconvert_exporter": "python",
   "pygments_lexer": "ipython3",
   "version": "3.7.2"
  }
 },
 "nbformat": 4,
 "nbformat_minor": 2
}
